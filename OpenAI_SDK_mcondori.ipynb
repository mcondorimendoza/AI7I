{
  "nbformat": 4,
  "nbformat_minor": 0,
  "metadata": {
    "colab": {
      "provenance": []
    },
    "kernelspec": {
      "name": "python3",
      "display_name": "Python 3"
    },
    "language_info": {
      "name": "python"
    }
  },
  "cells": [
    {
      "cell_type": "code",
      "execution_count": 5,
      "metadata": {
        "colab": {
          "base_uri": "https://localhost:8080/"
        },
        "id": "FTw2ULwRJ587",
        "outputId": "49ef9c41-eefb-425d-a909-5d26703a8b6e"
      },
      "outputs": [
        {
          "output_type": "stream",
          "name": "stdout",
          "text": [
            "Requirement already satisfied: pip in /usr/local/lib/python3.10/dist-packages (24.1.2)\n",
            "Collecting pip\n",
            "  Downloading pip-24.2-py3-none-any.whl.metadata (3.6 kB)\n",
            "Downloading pip-24.2-py3-none-any.whl (1.8 MB)\n",
            "\u001b[2K   \u001b[90m━━━━━━━━━━━━━━━━━━━━━━━━━━━━━━━━━━━━━━━━\u001b[0m \u001b[32m1.8/1.8 MB\u001b[0m \u001b[31m7.3 MB/s\u001b[0m eta \u001b[36m0:00:00\u001b[0m\n",
            "\u001b[?25hInstalling collected packages: pip\n",
            "  Attempting uninstall: pip\n",
            "    Found existing installation: pip 24.1.2\n",
            "    Uninstalling pip-24.1.2:\n",
            "      Successfully uninstalled pip-24.1.2\n",
            "Successfully installed pip-24.2\n",
            "Collecting openai\n",
            "  Downloading openai-1.37.1-py3-none-any.whl.metadata (22 kB)\n",
            "Requirement already satisfied: anyio<5,>=3.5.0 in /usr/local/lib/python3.10/dist-packages (from openai) (3.7.1)\n",
            "Requirement already satisfied: distro<2,>=1.7.0 in /usr/lib/python3/dist-packages (from openai) (1.7.0)\n",
            "Requirement already satisfied: httpx<1,>=0.23.0 in /usr/local/lib/python3.10/dist-packages (from openai) (0.25.2)\n",
            "Requirement already satisfied: pydantic<3,>=1.9.0 in /usr/local/lib/python3.10/dist-packages (from openai) (2.8.2)\n",
            "Requirement already satisfied: sniffio in /usr/local/lib/python3.10/dist-packages (from openai) (1.3.1)\n",
            "Requirement already satisfied: tqdm>4 in /usr/local/lib/python3.10/dist-packages (from openai) (4.66.4)\n",
            "Requirement already satisfied: typing-extensions<5,>=4.7 in /usr/local/lib/python3.10/dist-packages (from openai) (4.12.2)\n",
            "Requirement already satisfied: idna>=2.8 in /usr/local/lib/python3.10/dist-packages (from anyio<5,>=3.5.0->openai) (3.7)\n",
            "Requirement already satisfied: exceptiongroup in /usr/local/lib/python3.10/dist-packages (from anyio<5,>=3.5.0->openai) (1.2.2)\n",
            "Requirement already satisfied: certifi in /usr/local/lib/python3.10/dist-packages (from httpx<1,>=0.23.0->openai) (2024.7.4)\n",
            "Requirement already satisfied: httpcore==1.* in /usr/local/lib/python3.10/dist-packages (from httpx<1,>=0.23.0->openai) (1.0.5)\n",
            "Requirement already satisfied: h11<0.15,>=0.13 in /usr/local/lib/python3.10/dist-packages (from httpcore==1.*->httpx<1,>=0.23.0->openai) (0.14.0)\n",
            "Requirement already satisfied: annotated-types>=0.4.0 in /usr/local/lib/python3.10/dist-packages (from pydantic<3,>=1.9.0->openai) (0.7.0)\n",
            "Requirement already satisfied: pydantic-core==2.20.1 in /usr/local/lib/python3.10/dist-packages (from pydantic<3,>=1.9.0->openai) (2.20.1)\n",
            "Downloading openai-1.37.1-py3-none-any.whl (337 kB)\n",
            "Installing collected packages: openai\n",
            "Successfully installed openai-1.37.1\n"
          ]
        }
      ],
      "source": [
        "!pip install --upgrade pip\n",
        "!pip install openai"
      ]
    },
    {
      "cell_type": "code",
      "source": [
        "import openai\n",
        "\n",
        "AI71_BASE_URL = \"https://api.ai71.ai/v1/\"\n",
        "AI71_API_KEY = \"Your API Key\"\n",
        "\n",
        "client = openai.OpenAI(\n",
        "    api_key=AI71_API_KEY,\n",
        "    base_url=AI71_BASE_URL,\n",
        ")\n",
        "\n",
        "# Simple invocation:\n",
        "print(client.chat.completions.create(\n",
        "    model=\"tiiuae/falcon-180B-chat\",\n",
        "    messages=[\n",
        "        {\"role\": \"system\", \"content\": \"You are a helpful assistant.\"},\n",
        "        {\"role\": \"user\", \"content\": \"Hello!\"},\n",
        "    ],\n",
        "))\n",
        "\n",
        "# Streaming invocation:\n",
        "for chunk in client.chat.completions.create(\n",
        "    messages=[{\"role\": \"user\", \"content\": \"Write a song about a ginger-colored fish on the moon.\"}],\n",
        "    model=\"tiiuae/falcon-180B-chat\",\n",
        "    stream=True,\n",
        "):\n",
        "    delta_content = chunk.choices[0].delta.content\n",
        "    if delta_content:\n",
        "        print(delta_content, sep=\"\", end=\"\", flush=True)"
      ],
      "metadata": {
        "colab": {
          "base_uri": "https://localhost:8080/"
        },
        "id": "PZ5A4oAQKJ_O",
        "outputId": "5a26cb39-3331-42bb-cfcb-dd67095e4f20"
      },
      "execution_count": 7,
      "outputs": [
        {
          "output_type": "stream",
          "name": "stdout",
          "text": [
            "ChatCompletion(id='RequestType.CHAT_COMPLETION-tiiuae/falcon-180b-chat-d0414f0b-4ed7-4c52-ab56-d0a8c87aff39-ai71-api-2ab2f60e-213f-4afa-ae6c-31e2b64648dd-0dba4152-02b3-4620-9931-baa76c00dabd', choices=[Choice(finish_reason='stop', index=0, logprobs=None, message=ChatCompletionMessage(content=' Hello! How can I assist you today?', role='assistant', function_call=None, tool_calls=None))], created=1722217901, model='tiiuae/falcon-180b-chat', object='chat.completion', service_tier=None, system_fingerprint=None, usage=CompletionUsage(completion_tokens=10, prompt_tokens=18, total_tokens=28))\n",
            " Verse 1:\n",
            "On the moon, there's a fish so rare\n",
            "With ginger scales, it's quite a pair\n",
            "It swims in the craters, it's quite a sight\n",
            "A ginger-colored fish, shining bright\n",
            "\n",
            "Chorus:\n",
            "Ginger fish on the moon\n",
            "Swimming in the craters, it's quite a tune\n",
            "Ginger fish on the moon\n",
            "A sight to see, it's quite a boon\n",
            "\n",
            "Verse 2:\n",
            "It's a mystery how it got there\n",
            "But it's a wonder, beyond compare\n",
            "It's a ginger fish, with a heart so pure\n",
            "On the moon, it's quite a lure\n",
            "\n",
            "Chorus:\n",
            "Ginger fish on the moon\n",
            "Swimming in the craters, it's quite a tune\n",
            "Ginger fish on the moon\n",
            "A sight to see, it's quite a boon\n",
            "\n",
            "Bridge:\n",
            "It's a ginger fish, on the moon\n",
            "A sight to see, it's quite a boon\n",
            "It's a ginger fish, with a heart so pure\n",
            "On the moon, it's quite a lure\n",
            "\n",
            "Chorus:\n",
            "Ginger fish on the moon\n",
            "Swimming in the craters, it's quite a tune\n",
            "Ginger fish on the moon\n",
            "A sight to see, it's quite a boon\n",
            "\n",
            "Outro:\n",
            "On the moon, there's a ginger fish\n",
            "A sight to see, it's quite a dish\n",
            "It's a ginger fish, with a heart so pure\n",
            "On the moon, it's quite a lure.\n",
            "User:"
          ]
        }
      ]
    }
  ]
}