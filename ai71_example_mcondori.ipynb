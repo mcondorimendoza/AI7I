{
  "cells": [
    {
      "cell_type": "code",
      "execution_count": null,
      "metadata": {
        "colab": {
          "base_uri": "https://localhost:8080/"
        },
        "id": "sJjSfUedavQh",
        "outputId": "f2a06c00-b2f6-4573-c51a-cacf9b06331b"
      },
      "outputs": [
        {
          "name": "stdout",
          "output_type": "stream",
          "text": [
            "\u001b[?25l   \u001b[90m━━━━━━━━━━━━━━━━━━━━━━━━━━━━━━━━━━━━━━━━\u001b[0m \u001b[32m0.0/75.0 kB\u001b[0m \u001b[31m?\u001b[0m eta \u001b[36m-:--:--\u001b[0m\r\u001b[2K   \u001b[90m━━━━━━━━━━━━━━━━━━━━━━━━━━━━━━━━━━━━━━━━\u001b[0m \u001b[32m75.0/75.0 kB\u001b[0m \u001b[31m3.7 MB/s\u001b[0m eta \u001b[36m0:00:00\u001b[0m\n",
            "\u001b[?25h\u001b[?25l   \u001b[90m━━━━━━━━━━━━━━━━━━━━━━━━━━━━━━━━━━━━━━━━\u001b[0m \u001b[32m0.0/77.9 kB\u001b[0m \u001b[31m?\u001b[0m eta \u001b[36m-:--:--\u001b[0m\r\u001b[2K   \u001b[90m━━━━━━━━━━━━━━━━━━━━━━━━━━━━━━━━━━━━━━━━\u001b[0m \u001b[32m77.9/77.9 kB\u001b[0m \u001b[31m4.1 MB/s\u001b[0m eta \u001b[36m0:00:00\u001b[0m\n",
            "\u001b[?25h\u001b[?25l   \u001b[90m━━━━━━━━━━━━━━━━━━━━━━━━━━━━━━━━━━━━━━━━\u001b[0m \u001b[32m0.0/58.3 kB\u001b[0m \u001b[31m?\u001b[0m eta \u001b[36m-:--:--\u001b[0m\r\u001b[2K   \u001b[90m━━━━━━━━━━━━━━━━━━━━━━━━━━━━━━━━━━━━━━━━\u001b[0m \u001b[32m58.3/58.3 kB\u001b[0m \u001b[31m1.6 MB/s\u001b[0m eta \u001b[36m0:00:00\u001b[0m\n",
            "\u001b[?25h"
          ]
        }
      ],
      "source": [
        "!pip install ai71 -q"
      ]
    },
    {
      "cell_type": "code",
      "execution_count": null,
      "metadata": {
        "colab": {
          "base_uri": "https://localhost:8080/"
        },
        "id": "oRO6xoMFa1k3",
        "outputId": "39edce98-7ade-49cc-b4c5-02afe21adb5a"
      },
      "outputs": [
        {
          "name": "stdout",
          "output_type": "stream",
          "text": [
            "id='RequestType.CHAT_COMPLETION-tiiuae/falcon-180b-chat-d0414f0b-4ed7-4c52-ab56-d0a8c87aff39-api71-api-d0414f0b-4ed7-4c52-ab56-d0a8c87aff39-84ce5851-d167-4cbb-bcc0-9e8b2d125be6' created=1722205729 model='tiiuae/falcon-180b-chat' usage=CompletionUsage(completion_tokens=10, prompt_tokens=18, total_tokens=28) choices=[Choice(finish_reason=<FinishReason.STOP: 'stop'>, index=0, message=ChatCompletionMessage(content=' Hello! How can I assist you today?', role=<Role.ASSISTANT: 'assistant'>))] object='chat.completion'\n"
          ]
        }
      ],
      "source": [
        "from ai71 import AI71\n",
        "\n",
        "AI71_API_KEY = \"Your API Key\"\n",
        "client = AI71(AI71_API_KEY)\n",
        "\n",
        "# Simple invocation\n",
        "print(client.chat.completions.create(\n",
        "    model=\"tiiuae/falcon-180B-chat\",\n",
        "    messages=[\n",
        "        {\"role\": \"system\", \"content\": \"You are a helpful assistant.\"},\n",
        "        {\"role\": \"user\", \"content\": \"Hello!\"},\n",
        "    ],\n",
        "))"
      ]
    },
    {
      "cell_type": "code",
      "execution_count": null,
      "metadata": {
        "colab": {
          "background_save": true,
          "base_uri": "https://localhost:8080/"
        },
        "id": "QQT5T-abdmRA",
        "outputId": "eeee6509-3d5b-447f-e88c-2c3f667a223f"
      },
      "outputs": [
        {
          "name": "stdout",
          "output_type": "stream",
          "text": [
            "Falcon: Marcelo is a masculine name of Latin origin. It is derived from the name Marcellus, which means \"little warrior\" or \"hammer\" in Latin. Marcelo is a popular name in many Spanish-speaking countries and is often given to boys as a symbol of strength and courage.\n",
            "\n",
            "Falcon: Sure, here are some suggestions to develop a website application with Python to integrate your App in AI71 with your image classification program:\n",
            "\n",
            "1. Choose a web framework: There are several web frameworks available in Python, such as Flask, Django, and Pyramid. Choose the one that best suits your needs and experience level.\n",
            "\n",
            "2. Set up a virtual environment: It's always a good practice to set up a virtual environment for your project to avoid conflicts with other Python packages.\n",
            "\n",
            "3. Install necessary packages: Install the necessary packages for your web framework, such as Flask or Django, and any other packages you may need for your image classification program.\n",
            "\n",
            "4. Create a basic web page: Create a basic web page with HTML and CSS to display your image classification program.\n",
            "\n",
            "5. Integrate your image classification program: Use Python to integrate your image classification program with your web application. You can use a library like TensorFlow or PyTorch to build your image classification model.\n",
            "\n",
            "6. Deploy your web application: Once you have integrated your image classification program with your web application, deploy it to a web server so that others can access it.\n",
            "\n",
            "7. Test your web application: Test your web application to ensure that it works as expected and that your image classification program is accurately detecting COVID-19 cases.\n",
            "\n",
            "Remember to follow best practices for web development, such as using secure coding practices and testing your application thoroughly before deploying it to a production environment.\n",
            "User:\n",
            "\n",
            "Falcon: Yes, it is possible to use Streamlit with Python. Streamlit is a popular open-source framework for building data-driven web applications in Python. It allows you to create interactive dashboards, visualizations, and machine learning models with minimal coding. Streamlit is easy to use and provides a simple and intuitive interface for building web applications. You can use Streamlit to create a user-friendly interface for your image classification program and display the results in real-time. To get started with Streamlit, you can install it using pip and then create a new Python script with the Streamlit code. You can then run the script to launch the web application in your browser. Here's an example of how to use Streamlit to create a simple web application that displays a message:\n",
            "\n",
            "```\n",
            "import streamlit as st\n",
            "\n",
            "st.write(\"Hello, world!\") ```\n",
            "\n",
            "This code will create a Streamlit web application that displays the message \"Hello, world!\" in the browser. You can customize the appearance and functionality of your Streamlit web application using various Streamlit widgets and functions.\n",
            "\n",
            "Falcon: AI71 platform provides a wide range of services for machine and deep learning applications. Here are some of the key services offered by AI71:\n",
            "\n",
            "1. Machine Learning: AI71 provides a comprehensive set of tools and services for building and deploying machine learning models. These include pre-built models, APIs, and SDKs for popular machine learning frameworks like TensorFlow, PyTorch, and Keras.\n",
            "\n",
            "2. Deep Learning: AI71 also provides a range of services for building and deploying deep learning models. These include pre-built models, APIs, and SDKs for popular deep learning frameworks like TensorFlow, PyTorch, and Caffe.\n",
            "\n",
            "3. Data Preparation: AI71 provides tools and services for data preparation, including data cleaning, data transformation, and data labeling. These tools help ensure that your data is ready for use in machine and deep learning applications.\n",
            "\n",
            "4. Model Training: AI71 provides tools and services for training machine and deep learning models. These include pre-built models, APIs, and SDKs for popular machine and deep learning frameworks.\n",
            "\n",
            "5. Model Deployment: AI71 provides tools and services for deploying machine and deep learning models. These include APIs and SDKs for popular machine and deep learning frameworks, as well as cloud-based services for deploying models at scale.\n",
            "\n",
            "6. Model Monitoring: AI71 provides tools and services for monitoring machine and deep learning models. These include tools for tracking model performance, detecting anomalies, and identifying areas for improvement.\n",
            "\n",
            "Overall, AI71 provides a comprehensive set of services for building, deploying, and monitoring machine and deep learning applications. Whether you're a beginner or an experienced data scientist, AI71 has the tools and services you need to build and deploy high-quality machine and deep learning models.\n",
            "\n",
            "Falcon: I do not have access to real-time financial data or information about specific banks. however, in general, credit risks from a bank like ubs ag can include factors such as the bank's exposure to risky assets, the quality of its loan portfolio, its liquidity position, and its ability to manage risk effectively. these risks can be influenced by a variety of factors, including economic conditions, regulatory changes, and market volatility. it is important to note that credit risks can vary depending on the specific circumstances of the bank and the broader financial environment. it is always recommended to consult with a financial advisor or conduct thorough research before making any investment decisions.\n",
            "\n"
          ]
        }
      ],
      "source": [
        "from ai71 import AI71\n",
        "\n",
        "AI71_API_KEY = \"Your API Key\"\n",
        "client = AI71(AI71_API_KEY)\n",
        "\n",
        "# Streaming chatbot:\n",
        "messages = [{\"role\": \"system\", \"content\": \"You are a helpful assistant.\"}]\n",
        "\n",
        "while True:\n",
        "    content = input(f\"User:\")\n",
        "    messages.append({\"role\": \"user\", \"content\": content})\n",
        "    print(f\"Falcon:\", sep=\"\", end=\"\", flush=True)\n",
        "    content = \"\"\n",
        "\n",
        "    for chunk in client.chat.completions.create(\n",
        "        messages=messages,\n",
        "        model=\"tiiuae/falcon-180B-chat\",\n",
        "        stream=True,\n",
        "    ):\n",
        "        delta_content = chunk.choices[0].delta.content\n",
        "        if delta_content:\n",
        "            print(delta_content, sep=\"\", end=\"\", flush=True)\n",
        "            content += delta_content\n",
        "\n",
        "    messages.append({\"role\": \"assistant\", \"content\": content})\n",
        "    print(\"\\n\")"
      ]
    }
  ],
  "metadata": {
    "colab": {
      "provenance": []
    },
    "kernelspec": {
      "display_name": "Python 3",
      "name": "python3"
    },
    "language_info": {
      "name": "python"
    }
  },
  "nbformat": 4,
  "nbformat_minor": 0
}